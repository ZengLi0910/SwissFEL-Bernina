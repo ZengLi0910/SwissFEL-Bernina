{
 "cells": [
  {
   "cell_type": "markdown",
   "metadata": {},
   "source": [
    "# Loads the processed h5 file and plots data"
   ]
  },
  {
   "cell_type": "code",
   "execution_count": null,
   "metadata": {
    "collapsed": false
   },
   "outputs": [],
   "source": [
    "%matplotlib notebook\n",
    "import numpy as np\n",
    "import matplotlib.pyplot as plt\n",
    "import h5py\n",
    "import time\n",
    "import sys\n",
    "\n",
    "sys.path.insert(0, '../src/')\n",
    "from corrections import *\n",
    "from integrators import *\n",
    "from analysis import *\n",
    "from pedestals import *\n",
    "from utilities import *"
   ]
  },
  {
   "cell_type": "code",
   "execution_count": null,
   "metadata": {
    "collapsed": true
   },
   "outputs": [],
   "source": [
    "# input parameters\n",
    "run_num = 110\n",
    "\n",
    "# constants\n",
    "detector_distance = 0.1249 # m\n",
    "energy = 9.5 # keV\n",
    "\n",
    "# hit finders parameters\n",
    "iq_thr = 0.5 # photon/pix\n",
    "r_min, r_max = 200,400 # bins\n",
    "\n",
    "# ice finder parameters\n",
    "filter_length = 1\n",
    "ice_thr = 1. # delta photon/pix\n",
    "q_min, q_max = 1.0,4.5 # A-1"
   ]
  },
  {
   "cell_type": "markdown",
   "metadata": {},
   "source": [
    "### load and analyse data"
   ]
  },
  {
   "cell_type": "code",
   "execution_count": null,
   "metadata": {
    "collapsed": false
   },
   "outputs": [],
   "source": [
    "# load data\n",
    "run = discover_run_h5(run_num)[3:-3]\n",
    "img,Iq,r,nshots,img_hits,thr,nhits,i0,laser_i0,laser_on,event_ID = load_processed_data(run)\n",
    "\n",
    "# convert q_scale\n",
    "q = q_scale(r,detector_distance=detector_distance,photon_energy=energy*1000)\n",
    "\n",
    "# convert intensity to photon/pix\n",
    "img_hits/=energy\n",
    "Iq /=energy\n",
    "i0 /=energy\n",
    "\n",
    "# normalise to i0\n",
    "Iq_norm = np.zeros(Iq.shape)\n",
    "i0_avg = np.average(i0)\n",
    "norm = i0/i0_avg\n",
    "for i in range(int(nshots)):\n",
    "    Iq_norm[i]=Iq[i]/norm[i]\n",
    "    \n",
    "# find hits\n",
    "metric,hits = find_hits(Iq_norm,threshold=iq_thr,r_min=r_min,r_max=r_max)\n",
    "hit_rate =len(hits[hits>0])/nshots\n",
    "\n",
    "# find ice\n",
    "ice_metric, ice_hits = find_ice(Iq_norm, q, threshold=ice_thr, filter_length=filter_length, q_min=q_min, q_max=q_max)\n",
    "ice_avg = np.average(Iq[ice_hits],axis=0)\n",
    "\n",
    "# exclude ice hits\n",
    "hits *= np.logical_not(ice_hits)\n",
    "\n",
    "# subtract background\n",
    "Iq_corr = subtract_background(Iq,hits,i0,nshots)\n",
    "hit_avg = np.average(Iq_corr,axis=0)\n",
    "miss_avg = np.average(Iq[hits],axis=0) - np.average(Iq_corr,axis=0)\n",
    "\n",
    "# pump probe (new method)\n",
    "diff_signal_2 = pump_probe_signal_2(Iq_corr,hits,laser_on,r_min=r_min,r_max=r_max)"
   ]
  },
  {
   "cell_type": "markdown",
   "metadata": {},
   "source": [
    "### plot"
   ]
  },
  {
   "cell_type": "code",
   "execution_count": null,
   "metadata": {
    "collapsed": false
   },
   "outputs": [],
   "source": [
    "plt.figure(figsize=[9,4])\n",
    "plt.subplot(1,2,1)\n",
    "plt.title('run%s'%run[:4])\n",
    "plt.imshow(img_hits/nhits,clim=[0,5],origin='lower')\n",
    "plt.colorbar()\n",
    "plt.xticks([],'')\n",
    "plt.yticks([],'')\n",
    "plt.tight_layout()\n",
    "\n",
    "plt.subplot(2,2,2)\n",
    "plt.title('water hits: %d'%(hits.sum()))\n",
    "plt.plot(q,hit_avg , label='water')\n",
    "plt.plot(q,ice_avg,label ='ice hits',lw=0.5)\n",
    "plt.plot(q,miss_avg ,'--',label='background')\n",
    "plt.ylabel('I(Q) [photon/pix]')\n",
    "plt.legend(loc='upper right')\n",
    "plt.axhline(0,c='black',lw=1)\n",
    "plt.xlim(0,5)\n",
    "plt.grid(linestyle='dotted')\n",
    "plt.ylim(-1,5)\n",
    "\n",
    "ax = plt.subplot(2,2,4)\n",
    "ax.plot(q, diff_signal_2, label='laser on - off',lw=1)\n",
    "plt.ylabel('$\\Delta$I(Q) [arb. units]')\n",
    "plt.ylim([-1.2e-4,1.2e-4])\n",
    "plt.xlabel('Q [$\\AA^{-1}$]')\n",
    "plt.legend()\n",
    "plt.xlim(0,5)\n",
    "plt.grid(linestyle='dotted')\n",
    "plt.axhline(0,c='black',lw=1)\n",
    "\n",
    "plt.tight_layout()\n",
    "plt.show()"
   ]
  },
  {
   "cell_type": "code",
   "execution_count": null,
   "metadata": {
    "collapsed": false
   },
   "outputs": [],
   "source": [
    "plt.figure(figsize=[8,3])\n",
    "\n",
    "plt.subplot(1,2,1)\n",
    "x,y = do_histogram(metric,0,3,.01)\n",
    "plt.plot(x,y)\n",
    "plt.axvline(x=iq_thr,c='black',ls='--')\n",
    "plt.legend(['Iq/i0',iq_thr])\n",
    "plt.ylabel('number of shots')\n",
    "plt.yscale('log',nonposy='clip')\n",
    "#plt.xscale('log',nonposy='clip')\n",
    "plt.xlabel('intensity (photons/pix)')\n",
    "plt.title('water hit rate: %.3f %%'%(hit_rate*100))\n",
    "plt.tight_layout()\n",
    "\n",
    "plt.subplot(1,2,2)\n",
    "x,y = do_histogram(ice_metric,0,ice_metric.max(),.1)\n",
    "plt.plot(x,y)\n",
    "plt.axvline(x=ice_thr,c='black',ls='--')\n",
    "plt.legend(['Iq/i0',ice_thr])\n",
    "plt.ylabel('number of shots')\n",
    "plt.yscale('log',nonposy='clip')\n",
    "plt.xlabel('intensity (photons/pix)')\n",
    "plt.xscale('log',nonposy='clip')\n",
    "plt.title('ice hit rate: %.3f %%'%(ice_hits.sum()/nshots*100))\n",
    "plt.tight_layout()\n",
    "\n",
    "plt.show()"
   ]
  },
  {
   "cell_type": "code",
   "execution_count": null,
   "metadata": {
    "collapsed": true
   },
   "outputs": [],
   "source": []
  }
 ],
 "metadata": {
  "kernelspec": {
   "display_name": "Python 2",
   "language": "python",
   "name": "python2"
  },
  "language_info": {
   "codemirror_mode": {
    "name": "ipython",
    "version": 2
   },
   "file_extension": ".py",
   "mimetype": "text/x-python",
   "name": "python",
   "nbconvert_exporter": "python",
   "pygments_lexer": "ipython2",
   "version": "2.7.10"
  }
 },
 "nbformat": 4,
 "nbformat_minor": 2
}
